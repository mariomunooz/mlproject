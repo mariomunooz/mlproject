{
 "cells": [
  {
   "cell_type": "code",
   "execution_count": 15,
   "metadata": {},
   "outputs": [],
   "source": [
    "import yaml \n",
    "import pandas as pd\n",
    "from src.exception import CustomException\n",
    "import sys"
   ]
  },
  {
   "cell_type": "code",
   "execution_count": 16,
   "metadata": {},
   "outputs": [],
   "source": [
    "def load_params_from_yaml(params_file: str):\n",
    "    \n",
    "    with open(params_file, 'r') as file:\n",
    "        return yaml.safe_load(file)\n",
    "    \n"
   ]
  },
  {
   "cell_type": "code",
   "execution_count": 17,
   "metadata": {},
   "outputs": [],
   "source": [
    "params = load_params_from_yaml(\"C:\\\\Users\\\\hipma\\\\Documents\\\\Github\\\\mlproject\\\\config\\\\model_params.yaml\")"
   ]
  },
  {
   "cell_type": "code",
   "execution_count": 18,
   "metadata": {},
   "outputs": [
    {
     "data": {
      "text/plain": [
       "dict_keys(['Decision_Tree', 'Random_Forest', 'Gradient_Boosting', 'Linear_Regression', 'XGBRegressor', 'CatBoosting_Regressor', 'AdaBoost_Regressor'])"
      ]
     },
     "execution_count": 18,
     "metadata": {},
     "output_type": "execute_result"
    }
   ],
   "source": [
    "params.keys()"
   ]
  },
  {
   "cell_type": "code",
   "execution_count": 19,
   "metadata": {},
   "outputs": [
    {
     "name": "stdout",
     "output_type": "stream",
     "text": [
      "{'criterion': ['squared_error', 'friedman_mse', 'absolute_error', 'poisson']}\n",
      "\n",
      "{'n_estimators': [8, 16, 32, 64, 128, 256]}\n",
      "\n",
      "{'learning_rate': [0.1, 0.01, 0.05, 0.001], 'subsample': [0.6, 0.7, 0.75, 0.8, 0.85, 0.9], 'n_estimators': [8, 16, 32, 64, 128, 256]}\n",
      "\n",
      "{}\n",
      "\n",
      "{'learning_rate': [0.1, 0.01, 0.05, 0.001], 'n_estimators': [8, 16, 32, 64, 128, 256]}\n",
      "\n",
      "{'depth': [6, 8, 10], 'learning_rate': [0.01, 0.05, 0.1], 'iterations': [30, 50, 100]}\n",
      "\n",
      "{'learning_rate': [0.1, 0.01, 0.5, 0.001], 'n_estimators': [8, 16, 32, 64, 128, 256]}\n",
      "\n"
     ]
    }
   ],
   "source": [
    "for model_name in params.keys():\n",
    "    \n",
    "    para = params[model_name]\n",
    "    print(para, end=\"\\n\\n\")"
   ]
  }
 ],
 "metadata": {
  "kernelspec": {
   "display_name": "Python 3",
   "language": "python",
   "name": "python3"
  },
  "language_info": {
   "codemirror_mode": {
    "name": "ipython",
    "version": 3
   },
   "file_extension": ".py",
   "mimetype": "text/x-python",
   "name": "python",
   "nbconvert_exporter": "python",
   "pygments_lexer": "ipython3",
   "version": "3.8.19"
  }
 },
 "nbformat": 4,
 "nbformat_minor": 2
}
